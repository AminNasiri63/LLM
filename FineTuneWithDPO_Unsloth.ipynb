{
 "cells": [
  {
   "cell_type": "markdown",
   "id": "5abb18b1",
   "metadata": {},
   "source": [
    "## More Sources:\n",
    "\n",
    "https://medium.com/@mauryaanoop3/dpo-fine-tuning-for-enhanced-language-model-performance-466fec349a5e\n",
    "\n",
    "https://huggingface.co/Qwen/Qwen2.5-3B-Instruct\n",
    "\n",
    "https://colab.research.google.com/github/unslothai/notebooks/blob/main/nb/Zephyr_(7B)-DPO.ipynb#scrollTo=EWGFqAo5Q2me"
   ]
  },
  {
   "cell_type": "code",
   "execution_count": null,
   "id": "8103b6bb",
   "metadata": {},
   "outputs": [],
   "source": [
    "# import libraries\n",
    "from trl import DPOConfig, DPOTrainer\n",
    "from transformers import AutoModelForCausalLM, AutoTokenizer, pipeline\n",
    "\n",
    "from unsloth import FastLanguageModel, is_bfloat16_supported, PatchDPOTrainer\n",
    "import torch\n",
    "from datasets import load_dataset\n",
    "\n",
    "from vllm import SamplingParams"
   ]
  },
  {
   "cell_type": "markdown",
   "id": "eaa3d805",
   "metadata": {},
   "source": [
    "## Load dataset"
   ]
  },
  {
   "cell_type": "code",
   "execution_count": null,
   "id": "65cdc9d7",
   "metadata": {},
   "outputs": [],
   "source": [
    "# Load dataset\n",
    "dataset = load_dataset(\"Intel/orca_dpo_pairs\")['train']\n",
    "original_columns = dataset.column_names\n",
    "\n",
    "# take a look at the dataset\n",
    "dataset"
   ]
  },
  {
   "cell_type": "markdown",
   "id": "046f1512",
   "metadata": {},
   "source": [
    "## Model and LoRA adapter"
   ]
  },
  {
   "cell_type": "code",
   "execution_count": null,
   "id": "f666a58b",
   "metadata": {},
   "outputs": [],
   "source": [
    "max_seq_length = 1024 # Can increase for longer reasoning traces\n",
    "lora_rank = 64 # Larger rank = smarter, but slower\n",
    "\n",
    "model_name = \"Qwen/Qwen2.5-3B-Instruct\"\n",
    "model, tokenizer = FastLanguageModel.from_pretrained(\n",
    "    model_name = model_name,\n",
    "    max_seq_length = max_seq_length,\n",
    "    load_in_4bit = True, # False for LoRA 16bit\n",
    "    fast_inference = True, # Enable vLLM fast inference\n",
    "    max_lora_rank = lora_rank,\n",
    "    gpu_memory_utilization = 0.5, # Reduce if out of memory\n",
    ")\n",
    "\n",
    "model = FastLanguageModel.get_peft_model(\n",
    "    model,\n",
    "    r = lora_rank, # Choose any number > 0 ! Suggested 8, 16, 32, 64, 128\n",
    "    target_modules = [\n",
    "        \"q_proj\", \"k_proj\"], # Remove QKVO if out of memory\n",
    "    lora_alpha = lora_rank,\n",
    "    use_gradient_checkpointing = \"unsloth\", # Enable long context finetuning\n",
    "    random_state = 3407,\n",
    ")"
   ]
  },
  {
   "cell_type": "markdown",
   "id": "7d5cddbc",
   "metadata": {},
   "source": [
    "## Data Prep"
   ]
  },
  {
   "cell_type": "code",
   "execution_count": null,
   "id": "be0b79ed",
   "metadata": {},
   "outputs": [],
   "source": [
    "# Helper function to format the dataset\n",
    "def chatml_format(example, default_system = \"You are a helpful assistant.\"):\n",
    "    system_message = example['system'] if len(example['system']) > 0 else default_system\n",
    "\n",
    "    messages = [\n",
    "        {\"role\": \"system\", \"content\": system_message},\n",
    "        {\"role\": \"user\", \"content\": example['question']}\n",
    "    ]\n",
    "\n",
    "    prompt = tokenizer.apply_chat_template(messages, tokenize=False, add_generation_prompt=True)\n",
    "\n",
    "    return {\n",
    "        \"prompt\": prompt,\n",
    "        \"chosen\": example['chosen'],\n",
    "        \"rejected\": example['rejected'],\n",
    "    }"
   ]
  },
  {
   "cell_type": "code",
   "execution_count": null,
   "id": "ca416e5c",
   "metadata": {},
   "outputs": [],
   "source": [
    "# Applying formatting to the dataset\n",
    "dataset = dataset.map(\n",
    "    chatml_format,\n",
    "    remove_columns=original_columns\n",
    ")"
   ]
  },
  {
   "cell_type": "code",
   "execution_count": null,
   "id": "88be8c48",
   "metadata": {},
   "outputs": [],
   "source": [
    "# Displaying a sample from the dataset\n",
    "\n",
    "sample = dataset[1]\n",
    "print('prompt:\\n', sample['prompt'])\n",
    "print('chosen:\\n', sample['chosen']  )\n",
    "print('rejected:\\n', sample['rejected'])"
   ]
  },
  {
   "cell_type": "code",
   "execution_count": null,
   "id": "188e7a71",
   "metadata": {},
   "outputs": [],
   "source": [
    "# Set up text generation pipeline\n",
    "generator = pipeline(\"text-generation\", model=model, tokenizer=tokenizer, device='cuda')\n",
    "\n",
    "# Generate output\n",
    "outputs = generator(sample['prompt'], max_length=100, truncation=True, num_return_sequences=1, temperature=0.7)\n",
    "\n",
    "print(outputs[0]['generated_text'])"
   ]
  },
  {
   "cell_type": "code",
   "execution_count": null,
   "id": "b1d598d0",
   "metadata": {},
   "outputs": [],
   "source": [
    "# Split into train and validation\n",
    "split_dataset = dataset.train_test_split(test_size=0.1, seed=42)  # 10% for validation\n",
    "train_dataset = split_dataset[\"train\"]\n",
    "val_dataset = split_dataset[\"test\"]"
   ]
  },
  {
   "cell_type": "code",
   "execution_count": null,
   "id": "10f2e4b0",
   "metadata": {},
   "outputs": [],
   "source": [
    "# Example prompt\n",
    "sample = val_dataset[1]\n",
    "\n",
    "# Set up text generation pipeline\n",
    "generator = pipeline(\"text-generation\", model=model, tokenizer=tokenizer, device='cuda')\n",
    "\n",
    "# Generate output\n",
    "outputs = generator(sample['prompt'], max_length=100, truncation=True, num_return_sequences=1, temperature=0.7)\n",
    "\n",
    "print(outputs[0]['generated_text'])"
   ]
  },
  {
   "cell_type": "code",
   "execution_count": null,
   "id": "519ebb76",
   "metadata": {},
   "outputs": [],
   "source": [
    "# Display dataset sizes\n",
    "print(train_dataset)\n",
    "print(val_dataset)"
   ]
  },
  {
   "cell_type": "markdown",
   "id": "aa3340a2",
   "metadata": {},
   "source": [
    "## Training process"
   ]
  },
  {
   "cell_type": "code",
   "execution_count": null,
   "id": "d24715ea",
   "metadata": {},
   "outputs": [],
   "source": [
    "# One must patch the DPO Trainer first!\n",
    "PatchDPOTrainer()"
   ]
  },
  {
   "cell_type": "code",
   "execution_count": null,
   "id": "c6e3da8f",
   "metadata": {},
   "outputs": [],
   "source": [
    "# training arguments\n",
    "ft_model_name = model_name.split('/')[1].replace(\"Instruct\", \"DPO\")\n",
    "\n",
    "training_args = DPOConfig(\n",
    "    output_dir=ft_model_name,\n",
    "    logging_steps=25,\n",
    "    per_device_train_batch_size=2,\n",
    "    per_device_eval_batch_size=2,\n",
    "    gradient_accumulation_steps=4,\n",
    "    bf16=True,\n",
    "    num_train_epochs=1,\n",
    "    load_best_model_at_end=True,\n",
    "    metric_for_best_model=\"eval_loss\",\n",
    "    save_strategy=\"epoch\",\n",
    "    eval_strategy=\"epoch\",\n",
    "    eval_steps=1,\n",
    "    report_to=\"none\"\n",
    ")\n",
    "\n",
    "device = torch.device('cuda')"
   ]
  },
  {
   "cell_type": "code",
   "execution_count": null,
   "id": "f7fb52e8",
   "metadata": {},
   "outputs": [],
   "source": [
    "# Initialize DPO Trainer\n",
    "dpo_trainer = DPOTrainer(\n",
    "    model = model,\n",
    "    args = training_args,\n",
    "    train_dataset = train_dataset,\n",
    "    eval_dataset = val_dataset,\n",
    "    processing_class = tokenizer)"
   ]
  },
  {
   "cell_type": "code",
   "execution_count": null,
   "id": "4a014596",
   "metadata": {},
   "outputs": [],
   "source": [
    "# Start training\n",
    "dpo_trainer.train()"
   ]
  },
  {
   "cell_type": "markdown",
   "id": "a2798c25",
   "metadata": {},
   "source": [
    "## Inference"
   ]
  },
  {
   "cell_type": "code",
   "execution_count": null,
   "id": "6df418a4",
   "metadata": {},
   "outputs": [],
   "source": [
    "# Load the fine-tuned model\n",
    "ft_model = dpo_trainer.model"
   ]
  },
  {
   "cell_type": "code",
   "execution_count": null,
   "id": "f184eb1b",
   "metadata": {},
   "outputs": [],
   "source": [
    "# Example prompt\n",
    "sample = val_dataset[0]"
   ]
  },
  {
   "cell_type": "code",
   "execution_count": null,
   "id": "cde22e6f",
   "metadata": {},
   "outputs": [],
   "source": [
    "# base model results\n",
    "\n",
    "# Set up text generation pipeline\n",
    "generator = pipeline(\"text-generation\", model=model, tokenizer=tokenizer, device='cuda')\n",
    "\n",
    "# Generate output\n",
    "outputs = generator(sample['prompt'], max_length=max_seq_length, truncation=True, num_return_sequences=1, temperature=0.7)\n",
    "\n",
    "print(outputs[0]['generated_text'])"
   ]
  },
  {
   "cell_type": "code",
   "execution_count": null,
   "id": "2fe147ed",
   "metadata": {},
   "outputs": [],
   "source": [
    "# fine-tune model results\n",
    "\n",
    "# Set up text generation pipeline\n",
    "generator = pipeline(\"text-generation\", model=ft_model, tokenizer=tokenizer, device='cuda')\n",
    "\n",
    "# Generate output\n",
    "outputs = generator(sample['prompt'], max_length=max_seq_length, truncation=True, num_return_sequences=1, temperature=0.7)\n",
    "\n",
    "print(outputs[0]['generated_text'])"
   ]
  }
 ],
 "metadata": {
  "kernelspec": {
   "display_name": "LLM2",
   "language": "python",
   "name": "python3"
  },
  "language_info": {
   "codemirror_mode": {
    "name": "ipython",
    "version": 3
   },
   "file_extension": ".py",
   "mimetype": "text/x-python",
   "name": "python",
   "nbconvert_exporter": "python",
   "pygments_lexer": "ipython3",
   "version": "3.12.3"
  }
 },
 "nbformat": 4,
 "nbformat_minor": 5
}
