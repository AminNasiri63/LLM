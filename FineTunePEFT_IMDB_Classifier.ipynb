{
 "cells": [
  {
   "cell_type": "code",
   "execution_count": null,
   "id": "a16f17f3-29d7-4857-89de-044ecd668d03",
   "metadata": {},
   "outputs": [],
   "source": [
    "# install required packages\n",
    "%pip install \\\n",
    "    transformers \\\n",
    "    datasets \\\n",
    "    evaluate \\\n",
    "    rouge_score\\\n",
    "    loralib \\\n",
    "    bitsandbytes  \\\n",
    "    scikit-learn \\\n",
    "    peft --quiet"
   ]
  },
  {
   "cell_type": "code",
   "execution_count": null,
   "id": "a4592a74-2781-4034-8a9c-e1e08a5b3ced",
   "metadata": {},
   "outputs": [],
   "source": [
    "# import required libraries\n",
    "import torch\n",
    "import pandas as pd\n",
    "from datasets import Dataset, load_dataset, DatasetDict\n",
    "from peft import LoraConfig, PeftModel, prepare_model_for_kbit_training, get_peft_model\n",
    "from transformers import (\n",
    "    AutoTokenizer,\n",
    "    BitsAndBytesConfig,\n",
    "    TrainingArguments,\n",
    "    AutoModelForSequenceClassification,\n",
    "    TrainingArguments,\n",
    "    Trainer,\n",
    "    EarlyStoppingCallback,\n",
    "    DataCollatorWithPadding)\n",
    "\n",
    "import bitsandbytes as bnb\n",
    "from getpass import getpass\n",
    "import evaluate\n",
    "import numpy as np\n",
    "\n",
    "import random"
   ]
  },
  {
   "cell_type": "code",
   "execution_count": null,
   "id": "8163aa94",
   "metadata": {},
   "outputs": [],
   "source": [
    "# Logging In to Hugging Face\n",
    "hf_token = getpass(\"Hugging Face: \")\n",
    "!huggingface-cli login --token $hf_token"
   ]
  },
  {
   "cell_type": "code",
   "execution_count": null,
   "id": "3a7bcd83-0cea-4bc0-97f3-82d1570ebf85",
   "metadata": {},
   "outputs": [],
   "source": [
    "# Load the IMDB dataset\n",
    "dataset_imdb = load_dataset(\"imdb\")"
   ]
  },
  {
   "cell_type": "code",
   "execution_count": null,
   "id": "c41432ec-f5d7-4fa5-8897-dc3e04e868cc",
   "metadata": {},
   "outputs": [],
   "source": [
    "# Reduce the dataset size for quicker experimentation\n",
    "\n",
    "reduction_rate    = 0.1\n",
    "num_train_to_keep = int(reduction_rate * dataset_imdb[\"train\"].num_rows)\n",
    "num_test_to_keep  = int(reduction_rate * dataset_imdb[\"test\"].num_rows)\n",
    "\n",
    "def select_random_indices(dataset, num_to_keep):\n",
    "    indices = list(range(dataset.num_rows))\n",
    "    random.shuffle(indices)\n",
    "    return indices[:num_to_keep]\n",
    "\n",
    "train_indices = select_random_indices(dataset_imdb[\"train\"], num_train_to_keep)\n",
    "test_indices  = select_random_indices(dataset_imdb[\"test\"], num_test_to_keep)\n",
    "\n",
    "dataset_imdb  = DatasetDict({\n",
    "    \"train\": dataset_imdb[\"train\"].select(train_indices),\n",
    "    \"test\": dataset_imdb[\"test\"].select(test_indices),\n",
    "})\n",
    "\n",
    "dataset_imdb"
   ]
  },
  {
   "cell_type": "code",
   "execution_count": null,
   "id": "11fbff86-2698-4efb-8d02-504992db73e6",
   "metadata": {},
   "outputs": [],
   "source": [
    "# Load the tokenizer and check the vocab size of the model\n",
    "model_id  = \"google/gemma-2b-it\"\n",
    "tokenizer = AutoTokenizer.from_pretrained(model_id)\n",
    "print(f' Vocab size of the model {model_id}: {len(tokenizer.get_vocab())}')\n"
   ]
  },
  {
   "cell_type": "code",
   "execution_count": null,
   "id": "480f9481-5928-4490-aa2d-c6b7fa875a8d",
   "metadata": {},
   "outputs": [],
   "source": [
    "# Preprocess the dataset\n",
    "def preprocess_function(examples):\n",
    "    return tokenizer(examples[\"text\"], truncation=True,  max_length=512)\n",
    "\n",
    "tokenized_imdb = dataset_imdb.map(preprocess_function, batched=True)"
   ]
  },
  {
   "cell_type": "code",
   "execution_count": null,
   "id": "df264373-6619-4663-b404-4b0785a65ac0",
   "metadata": {},
   "outputs": [],
   "source": [
    "# Check the length of tokenized input ids\n",
    "for i in range(10):\n",
    "    print(len(tokenized_imdb['train'][i]['input_ids']))"
   ]
  },
  {
   "cell_type": "code",
   "execution_count": null,
   "id": "d4902a6b-8338-48d8-a665-9c52f8d2e7f1",
   "metadata": {},
   "outputs": [],
   "source": [
    "# Define label mappings\n",
    "id2label = {0: \"NEGATIVE\", 1: \"POSITIVE\"}\n",
    "label2id = {\"NEGATIVE\": 0, \"POSITIVE\": 1}"
   ]
  },
  {
   "cell_type": "code",
   "execution_count": null,
   "id": "b29a967c-df8b-42a2-ba04-d58002bf6efe",
   "metadata": {},
   "outputs": [],
   "source": [
    "# Create Data Collator\n",
    "data_collator = DataCollatorWithPadding(tokenizer=tokenizer)"
   ]
  },
  {
   "cell_type": "code",
   "execution_count": null,
   "id": "f3f4ac62-8e35-4ad7-b822-ced70b46b9fb",
   "metadata": {},
   "outputs": [],
   "source": [
    "# Define compute_metrics function\n",
    "metric = evaluate.combine([\"accuracy\", \"f1\", \"precision\", \"recall\"])\n",
    "\n",
    "def compute_metrics(eval_pred):\n",
    "    predictions, labels = eval_pred\n",
    "    predictions = np.argmax(predictions, axis=1)  # Convert probabilities to predicted labels\n",
    "    return metric.compute(predictions=predictions, references=labels)"
   ]
  },
  {
   "cell_type": "code",
   "execution_count": null,
   "id": "9be0a0cc-420c-449b-92d4-2e89b4597847",
   "metadata": {},
   "outputs": [],
   "source": [
    "# Define BitsAndBytesConfig for 4-bit quantization\n",
    "bnb_config = BitsAndBytesConfig(\n",
    "    load_in_4bit=True,  # Enables 4-bit quantization\n",
    "    bnb_4bit_use_double_quant=True,  # Use double quantization for potentially higher accuracy (optional)\n",
    "    bnb_4bit_quant_type=\"nf4\",  # Quantization type (specifics depend on hardware and library)\n",
    "    bnb_4bit_compute_dtype=torch.bfloat16  # Compute dtype for improved efficiency (optional)\n",
    ")"
   ]
  },
  {
   "cell_type": "code",
   "execution_count": null,
   "id": "2b48cdb6-56f5-47e0-a193-fc6b8d5891fa",
   "metadata": {},
   "outputs": [],
   "source": [
    "# Load the pre-trained model with quantization and label mappings\n",
    "model = AutoModelForSequenceClassification.from_pretrained(\n",
    "    model_id,  # \"google/gemma-2b-it\"\n",
    "    num_labels=2,  # Number of output labels (2 for binary sentiment classification)\n",
    "    id2label=id2label,  # {0: \"NEGATIVE\", 1: \"POSITIVE\"}\n",
    "    label2id=label2id,  # {\"NEGATIVE\": 0, \"POSITIVE\": 1}\n",
    "    quantization_config=bnb_config  # configuration for quantization\n",
    ")"
   ]
  },
  {
   "cell_type": "code",
   "execution_count": null,
   "id": "c86519aa-5ee7-41d4-944f-c37be5c1afb6",
   "metadata": {},
   "outputs": [],
   "source": [
    "# Prepare the model for k-bit training\n",
    "model = prepare_model_for_kbit_training(model)"
   ]
  },
  {
   "cell_type": "code",
   "execution_count": null,
   "id": "e85d31dc-cac4-42a0-a007-279ccee21969",
   "metadata": {},
   "outputs": [],
   "source": [
    "def find_linear_names(model):\n",
    "    \"\"\"\n",
    "    This function identifies all linear layer names within a model that use 4-bit quantization.\n",
    "    Args:\n",
    "        model (torch.nn.Module): The PyTorch model to inspect.\n",
    "    Returns:\n",
    "        list: A list containing the names of all identified linear layers with 4-bit quantization.\n",
    "    \"\"\"\n",
    "    cls = bnb.nn.Linear4bit\n",
    "\n",
    "    # Set to store identified layer names\n",
    "    lora_module_names = set()\n",
    "\n",
    "    # Iterate through named modules in the model\n",
    "    for name, module in model.named_modules():\n",
    "        # Check if the current module is an instance of the 4-bit linear layer class\n",
    "        if isinstance(module, cls):\n",
    "            names = name.split('.')\n",
    "            lora_module_names.add(names[0] if len(names) == 1 else names[-1])\n",
    "\n",
    "        # Special case: remove 'lm_head' if present\n",
    "        if 'lm_head' in lora_module_names:\n",
    "            lora_module_names.remove('lm_head')\n",
    "    return list(lora_module_names)\n",
    "\n",
    "# Example usage:\n",
    "modules = find_linear_names(model)\n",
    "print(modules)"
   ]
  },
  {
   "cell_type": "code",
   "execution_count": null,
   "id": "cc72bc31-1261-45b3-ba36-9439ef469d15",
   "metadata": {},
   "outputs": [],
   "source": [
    "# Define LoRA configuration and apply it to the model\n",
    "lora_config = LoraConfig(\n",
    "    r=64,  # Reduction factor (lower r means more parameters in the adapter)\n",
    "    lora_alpha=32,  # Dimensionality of the adapter projection\n",
    "    target_modules=modules,  # List of modules to apply the LoRA adapter\n",
    "    lora_dropout=0.05,  # Dropout rate for the adapter\n",
    "    bias=\"none\",  # Bias configuration for the adapter\n",
    "    task_type=\"SEQ_CLS\"  # Task type (sequence classification in this case)\n",
    ")\n",
    "\n",
    "model = get_peft_model(model, lora_config)\n",
    "model.print_trainable_parameters()"
   ]
  },
  {
   "cell_type": "code",
   "execution_count": null,
   "id": "7684e45e-8b58-4821-b1fa-8883a9b954e8",
   "metadata": {},
   "outputs": [],
   "source": [
    "# Define training arguments\n",
    "training_args = TrainingArguments(\n",
    "    output_dir=\"epoch_weights\",  # Output directory for checkpoints\n",
    "    learning_rate=2e-5,  # Learning rate for the optimizer\n",
    "    per_device_train_batch_size=1,  # Batch size per device\n",
    "    per_device_eval_batch_size=1,  # Batch size per device for evaluation\n",
    "    num_train_epochs=1,  # Number of training epochs\n",
    "    weight_decay=0.01,  # Weight decay for regularization\n",
    "    eval_strategy='epoch',  # Evaluate after each epoch\n",
    "    save_strategy=\"epoch\",  # Save model checkpoints after each epoch\n",
    "    load_best_model_at_end=True,  # Load the best model based on the chosen metric\n",
    "    push_to_hub=False,  # Disable pushing the model to the Hugging Face Hub\n",
    "    report_to=\"none\",  # Disable logging to Weight&Bias\n",
    "    metric_for_best_model='eval_loss'  # Metric for selecting the best model\n",
    ")"
   ]
  },
  {
   "cell_type": "code",
   "execution_count": null,
   "id": "e29b147f-bf88-473f-b1ad-3b05c2d2f760",
   "metadata": {},
   "outputs": [],
   "source": [
    "# Define early stopping callback\n",
    "early_stop = EarlyStoppingCallback(early_stopping_patience=1, early_stopping_threshold=.0)"
   ]
  },
  {
   "cell_type": "code",
   "execution_count": null,
   "id": "79e7d960-d573-4619-854f-900376e0ac35",
   "metadata": {},
   "outputs": [],
   "source": [
    "# Start training\n",
    "trainer = Trainer(\n",
    "    model=model,  # The LoRA-adapted model\n",
    "    args=training_args,  # Training arguments\n",
    "    train_dataset=tokenized_imdb[\"train\"],  # Training dataset\n",
    "    eval_dataset=tokenized_imdb[\"test\"],  # Evaluation dataset\n",
    "    tokenizer=tokenizer,  # Tokenizer for processing text\n",
    "    data_collator=data_collator,  # Data collator for preparing batches\n",
    "    compute_metrics=compute_metrics,  # Function to calculate evaluation metrics\n",
    "    callbacks=[early_stop]  # Optional early stopping callback\n",
    ")\n",
    "\n",
    "trainer.train()"
   ]
  },
  {
   "cell_type": "code",
   "execution_count": null,
   "id": "bf01545e-fa07-49a3-827c-3cf0e2a896d3",
   "metadata": {},
   "outputs": [],
   "source": [
    "def predict(input_text):\n",
    "    \"\"\"\n",
    "    Predicts the sentiment label for a given text input.\n",
    "\n",
    "    Args:\n",
    "        input_text (str): The text to predict the sentiment for.\n",
    "\n",
    "    Returns:\n",
    "        float: The predicted probability of the text being positive sentiment.\n",
    "    \"\"\"\n",
    "    inputs = tokenizer(input_text, return_tensors=\"pt\").to(\"cuda\")  # Convert to PyTorch tensors and move to GPU (if available)\n",
    "    with torch.no_grad():\n",
    "        outputs = model(**inputs).logits  # Get the model's output logits\n",
    "    y_prob = torch.sigmoid(outputs).tolist()[0]  # Apply sigmoid activation and convert to list\n",
    "    return np.round(y_prob, 5)  # Round the predicted probability to 5 decimal places"
   ]
  },
  {
   "cell_type": "code",
   "execution_count": null,
   "id": "df98d01d-c950-4b19-88ae-b15b5c189a0d",
   "metadata": {},
   "outputs": [],
   "source": [
    "predict(\"The movie was the best movie I have ever seen!!!\")"
   ]
  },
  {
   "cell_type": "code",
   "execution_count": null,
   "id": "c0f8bfb5-5873-4f35-bf10-aa8b31b75b78",
   "metadata": {},
   "outputs": [],
   "source": [
    "predict(\"The movie was boring\")"
   ]
  },
  {
   "cell_type": "code",
   "execution_count": null,
   "id": "c0f9d4e9-c53c-4411-8bf5-00eb5cdfdc34",
   "metadata": {},
   "outputs": [],
   "source": [
    "# Evaluate the model on a subset of the test dataset\n",
    "df_test = pd.DataFrame(dataset_imdb['test']).head(10)\n",
    "\n",
    "df_test['prediction'] = df_test['text'].map(predict)\n",
    "df_test['y_pred'] = df_test['prediction'].apply(lambda x: np.argmax(x, axis=0))\n",
    "accuracy = (df_test['y_pred'] == df_test['label']).mean()\n",
    "print(f\"Model Accuracy on Test Data: {accuracy:.4f}\")\n",
    "df_test.head()"
   ]
  }
 ],
 "metadata": {
  "kernelspec": {
   "display_name": "LLM3",
   "language": "python",
   "name": "python3"
  },
  "language_info": {
   "codemirror_mode": {
    "name": "ipython",
    "version": 3
   },
   "file_extension": ".py",
   "mimetype": "text/x-python",
   "name": "python",
   "nbconvert_exporter": "python",
   "pygments_lexer": "ipython3",
   "version": "3.12.3"
  }
 },
 "nbformat": 4,
 "nbformat_minor": 5
}
