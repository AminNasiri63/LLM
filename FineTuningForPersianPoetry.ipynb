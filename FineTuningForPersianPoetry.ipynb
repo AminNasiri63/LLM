{
  "cells": [
    {
      "cell_type": "code",
      "execution_count": null,
      "metadata": {
        "colab": {
          "base_uri": "https://localhost:8080/"
        },
        "id": "NzgbX_uE34rV",
        "outputId": "c2dd35ab-aa14-4f11-93eb-ab08f7a3e540"
      },
      "outputs": [],
      "source": [
        "# Load dataset\n",
        "!git clone https://github.com/aghasemi/ChronologicalPersianPoetryDataset.git poems"
      ]
    },
    {
      "cell_type": "code",
      "execution_count": null,
      "metadata": {
        "id": "m_2U9J1o5Gtu"
      },
      "outputs": [],
      "source": [
        "# Import necessary libraries\n",
        "import json\n",
        "import os\n",
        "import glob\n",
        "\n",
        "import numpy as np\n",
        "import pandas as pd\n",
        "from tqdm import tqdm\n",
        "from pathlib import Path\n",
        "import random\n",
        "import time\n",
        "import datetime\n",
        "import re\n",
        "\n",
        "import torch\n",
        "from transformers import AutoTokenizer, AutoConfig, AutoModelForCausalLM, Trainer, TrainingArguments\n",
        "from torch.utils.data import Dataset, random_split\n",
        "\n",
        "\n",
        "from IPython import display"
      ]
    },
    {
      "cell_type": "code",
      "execution_count": null,
      "metadata": {
        "id": "Fn6CIa12X9K9"
      },
      "outputs": [],
      "source": [
        "# Read the dataset\n",
        "df = pd.read_csv(\"./poems/poems.tsv\", sep=\"\\t\")\n"
      ]
    },
    {
      "cell_type": "code",
      "execution_count": null,
      "metadata": {
        "colab": {
          "base_uri": "https://localhost:8080/",
          "height": 206
        },
        "id": "Osc729oi5U1w",
        "outputId": "4ded3dde-bcfd-4087-f429-9c34cf6b5fe7"
      },
      "outputs": [],
      "source": [
        "# Preprocess the dataset\n",
        "\n",
        "#df[\"poem\"] = df[\"poem\"].apply(lambda t: normalize_input(t))\n",
        "\n",
        "df[\"text\"] = df[\"poet\"] + \"<|startoftext|>\" + df[\"poem\"].apply(lambda t: t.replace(\"    \", \"<sep>\").replace(\"\\t\", \"<sep>\"))\n",
        "df = df.dropna()\n",
        "df = df.reset_index(drop=True)\n",
        "df.head()"
      ]
    },
    {
      "cell_type": "code",
      "execution_count": null,
      "metadata": {
        "colab": {
          "base_uri": "https://localhost:8080/"
        },
        "id": "RdnnYyAeEt5H",
        "outputId": "1bb75225-c8a2-4ded-c270-4f8dcee878d6"
      },
      "outputs": [],
      "source": [
        "# Load tokenizer and config\n",
        "model_name_or_path = \"HooshvareLab/gpt2-fa\"\n",
        "\n",
        "tokenizer = AutoTokenizer.from_pretrained(\n",
        "    model_name_or_path,\n",
        "    bos_token='<s>',\n",
        "    eos_token='</s>',\n",
        "    pad_token='<pad>',\n",
        "    unk_token='<unk>'\n",
        ")\n",
        "tokenizer.add_special_tokens({\n",
        "    \"bos_token\": '</s>',\n",
        "    \"eos_token\": '</s>',\n",
        "    \"pad_token\": '<pad>',\n",
        "    \"unk_token\": '<unk>'\n",
        "})\n",
        "\n",
        "config = AutoConfig.from_pretrained(\n",
        "    model_name_or_path,\n",
        "    bos_token_id=tokenizer(\"<s>\")[\"input_ids\"][0],\n",
        "    eos_token_id=tokenizer(\"</s>\")[\"input_ids\"][0],\n",
        "    pad_token_id=tokenizer(\"<pad>\")[\"input_ids\"][0],\n",
        "    unk_token_id=tokenizer(\"<unk>\")[\"input_ids\"][0],\n",
        ")\n",
        "\n",
        "tokenizer.save_pretrained(\"./gpt2/\")\n",
        "config.save_pretrained(\"./gpt2/\")\n"
      ]
    },
    {
      "cell_type": "code",
      "execution_count": null,
      "metadata": {
        "colab": {
          "base_uri": "https://localhost:8080/"
        },
        "id": "iBjblscYmr8X",
        "outputId": "704f4f38-a6a3-4a22-a549-da448d60109f"
      },
      "outputs": [],
      "source": [
        "# Download model weights\n",
        "!wget \"https://huggingface.co/HooshvareLab/gpt2-fa/resolve/main/pytorch_model.bin\" -P ./gpt2/\n",
        "!wget \"https://huggingface.co/HooshvareLab/gpt2-fa/resolve/main/tokenizer.json\" -P ./gpt2/"
      ]
    },
    {
      "cell_type": "code",
      "execution_count": null,
      "metadata": {
        "colab": {
          "base_uri": "https://localhost:8080/"
        },
        "id": "_rOYPUa9GWuI",
        "outputId": "8426e092-b1fa-40d2-96c7-63b002480554"
      },
      "outputs": [],
      "source": [
        "# check the tokenizer\n",
        "tokenizer = AutoTokenizer.from_pretrained(\n",
        "    \"./gpt2\",\n",
        "    bos_token='<s>',\n",
        "    eos_token='</s>',\n",
        "    pad_token='<pad>'\n",
        ")\n",
        "\n",
        "print(tokenizer.encode(\"سلام بر شما\"))\n",
        "print(tokenizer.encode(\"<s>\"))\n",
        "print(tokenizer.encode(\"</s>\"))\n",
        "print(tokenizer.encode(\"<pad>\"))\n",
        "print(tokenizer.encode(\"<|startoftext|>\"))\n",
        "print(tokenizer.encode(\"<sep>\"))"
      ]
    },
    {
      "cell_type": "code",
      "execution_count": null,
      "metadata": {
        "id": "cWNpmPTcHmBf"
      },
      "outputs": [],
      "source": [
        "# Define Dataset class\n",
        "torch.manual_seed(42)\n",
        "\n",
        "class MTGDataset(Dataset):\n",
        "    def __init__(self, txt_list, tokenizer, max_length=1024):\n",
        "        self.tokenizer = tokenizer\n",
        "        self.data = []\n",
        "\n",
        "        for txt in txt_list:\n",
        "            encodings_dict = tokenizer(\n",
        "                '<s>' + txt + '</s>',\n",
        "                truncation=True,\n",
        "                max_length=max_length,\n",
        "                padding=\"max_length\",\n",
        "                return_tensors=\"pt\"\n",
        "            )\n",
        "\n",
        "            self.data.append({\n",
        "                \"input_ids\": encodings_dict[\"input_ids\"].squeeze(0),  # Remove batch dim\n",
        "                \"attention_mask\": encodings_dict[\"attention_mask\"].squeeze(0),\n",
        "                \"labels\": encodings_dict[\"input_ids\"].squeeze(0)  # Labels are the same as input\n",
        "            })\n",
        "\n",
        "    def __len__(self):\n",
        "        return len(self.data)\n",
        "\n",
        "    def __getitem__(self, idx):\n",
        "        return self.data[idx]  # Returns a dict (Trainer requires dict format)\n"
      ]
    },
    {
      "cell_type": "code",
      "execution_count": null,
      "metadata": {
        "colab": {
          "base_uri": "https://localhost:8080/",
          "height": 36
        },
        "id": "FAWCQ4WEHp30",
        "outputId": "7f46fdbc-be11-40b6-ffe7-14c960ccb57e"
      },
      "outputs": [],
      "source": [
        "# Create dataset\n",
        "max_seq = 256\n",
        "texts = df[\"text\"].values.tolist()\n",
        "dataset = MTGDataset(texts, tokenizer, max_length=max_seq)\n",
        "\n",
        "# Split into training and validation sets\n",
        "train_size = int(0.9 * len(dataset))\n",
        "val_size = len(dataset) - train_size\n",
        "train_dataset, val_dataset = random_split(dataset, [train_size, val_size])\n",
        "\n",
        "f'There are {len(train_dataset)} samples for training, and {len(val_dataset)} samples for validation testing'"
      ]
    },
    {
      "cell_type": "code",
      "execution_count": null,
      "metadata": {
        "id": "hOJz6PPnqqik"
      },
      "outputs": [],
      "source": [
        "# Load configuration automatically\n",
        "configuration = AutoConfig.from_pretrained('./gpt2', output_hidden_states=False)\n",
        "\n",
        "# Load model with the config\n",
        "model = AutoModelForCausalLM.from_pretrained(\"./gpt2\", config=configuration)\n",
        "model.resize_token_embeddings(len(tokenizer))\n",
        "\n",
        "device = torch.device(\"cuda\")\n",
        "model.to(device)\n",
        "\n",
        "# Optional: for reproducibility\n",
        "seed_val = 42\n",
        "random.seed(seed_val)\n",
        "np.random.seed(seed_val)\n",
        "torch.manual_seed(seed_val)\n",
        "torch.cuda.manual_seed_all(seed_val)\n"
      ]
    },
    {
      "cell_type": "code",
      "execution_count": null,
      "metadata": {
        "colab": {
          "base_uri": "https://localhost:8080/",
          "height": 383
        },
        "id": "90s9JD9pp8JQ",
        "outputId": "a90f6bc9-3e31-4bfb-bb06-cb986cde16cc"
      },
      "outputs": [],
      "source": [
        "# Training proccess\n",
        "\n",
        "epochs = 1\n",
        "\n",
        "\n",
        "# Define training arguments\n",
        "training_args = TrainingArguments(\n",
        "    output_dir=\"./results\",\n",
        "    eval_strategy=\"steps\",  # Evaluate at the end of each epoch\n",
        "    save_strategy=\"steps\",\n",
        "    save_steps=2000,\n",
        "    per_device_train_batch_size=8,\n",
        "    per_device_eval_batch_size=8,\n",
        "    num_train_epochs=epochs,\n",
        "    logging_dir=\"./logs\",\n",
        "    logging_steps=2000,\n",
        "    save_total_limit=3,           # Keep only last 3 checkpoints\n",
        "    load_best_model_at_end=True,\n",
        "    report_to=\"none\",             # Avoid sending logs to external trackers\n",
        ")\n",
        "\n",
        "# Define Trainer\n",
        "trainer = Trainer(\n",
        "    model=model,\n",
        "    args=training_args,\n",
        "    train_dataset=train_dataset,\n",
        "    eval_dataset=val_dataset,\n",
        "    tokenizer=tokenizer,\n",
        "    # compute_metrics=compute_metrics\n",
        ")\n",
        "\n",
        "# Train the model\n",
        "trainer.train()\n",
        "\n",
        "# Evaluate\n",
        "trainer.evaluate()\n"
      ]
    },
    {
      "cell_type": "code",
      "execution_count": null,
      "metadata": {
        "id": "bgnxR9mF2nZ1"
      },
      "outputs": [],
      "source": [
        "# function to generate poems\n",
        "def generator(model, poet, max_length=128, num_return_sequences=3):\n",
        "    model.eval()\n",
        "    prompt = f\"<s>{poet}<|startoftext|>\"\n",
        "    print(prompt)\n",
        "\n",
        "    generated = torch.tensor(tokenizer.encode(prompt)).unsqueeze(0)\n",
        "    generated = generated.to(device)\n",
        "\n",
        "    decoded_outputs = model.generate(\n",
        "        generated,\n",
        "        do_sample=True,\n",
        "        top_k=50,\n",
        "        max_length=max_length,\n",
        "        top_p=0.95,\n",
        "        num_return_sequences=num_return_sequences\n",
        "    )\n",
        "\n",
        "\n",
        "    outputs = []\n",
        "    for i, output in enumerate(decoded_outputs):\n",
        "        o = tokenizer.decode(output, skip_special_tokens=False)\n",
        "        o = o.replace(\"<s>\", \"\").replace(\"</s>\", \"\")\n",
        "        outputs.append(o)\n",
        "\n",
        "\n",
        "\n",
        "    display.display(display.HTML(\"\"\"\n",
        "    <style>\n",
        "    @import url(\"https://cdn.jsdelivr.net/gh/rastikerdar/vazir-font@v27.1.0/dist/font-face.css\");\n",
        "\n",
        "    table.xxx {\n",
        "        margin-right: 15px;\n",
        "        font-size: 14px;\n",
        "        direction: rtl !important;\n",
        "        width: 100%;\n",
        "        display: flex;\n",
        "    }\n",
        "    table.xxx td {\n",
        "        min-width: 300px !important;\n",
        "        direction: rtl !important;\n",
        "        text-align: right !important;\n",
        "        font-family: \"Vazir\" !important;\n",
        "    }\n",
        "    </style>\n",
        "    \"\"\".strip()))\n",
        "\n",
        "\n",
        "    df = pd.DataFrame(outputs, columns=[\"generated\"])\n",
        "    df[\"generated\"] = df[\"generated\"].apply(lambda t: re.sub(\"\\n+\", \"\\n\", t.replace(\"<sep>\", \"\\n\")))\n",
        "    df[\"generated\"] = df[\"generated\"].apply(lambda t: \"<p>\" + t.replace(\"\\n\", \"<br/>\").replace(\"<|startoftext|>\", \"<br/>\").strip() + \"</p>\")\n",
        "\n",
        "\n",
        "    setup = {\n",
        "        'border': 2,\n",
        "        'show_dimensions': True,\n",
        "        'escape': False,\n",
        "        'justify': 'right',\n",
        "        'classes': 'xxx'\n",
        "    }\n",
        "    display.display(display.HTML(df.to_html(**setup)))"
      ]
    },
    {
      "cell_type": "code",
      "execution_count": null,
      "metadata": {
        "colab": {
          "base_uri": "https://localhost:8080/"
        },
        "id": "49RNJ30f29Tf",
        "outputId": "c1558098-08f0-4be6-ec17-d1274d5d0648"
      },
      "outputs": [],
      "source": [
        "# Load the best model and tokenizer\n",
        "checkpoint = 4000  # after 4000 iteration\n",
        "# Load the best trained model\n",
        "model_path = \"./results/checkpoint-4000\"  # or any directory where the best model is saved\n",
        "hf_model = AutoModelForCausalLM.from_pretrained(model_path)\n",
        "hf_tokenizer = AutoTokenizer.from_pretrained(model_path)\n",
        "\n",
        "# Move model to GPU if available\n",
        "device = torch.device(\"cuda\" if torch.cuda.is_available() else \"cpu\")\n",
        "hf_model.to(device)\n",
        "hf_model.eval()"
      ]
    },
    {
      "cell_type": "code",
      "execution_count": null,
      "metadata": {
        "colab": {
          "base_uri": "https://localhost:8080/",
          "height": 515
        },
        "id": "IoCY-S402fAW",
        "outputId": "a4c1e7a0-a679-45f1-c64f-197184ed9be1"
      },
      "outputs": [],
      "source": [
        "generator(hf_model, 'حافظ', num_return_sequences=2)"
      ]
    },
    {
      "cell_type": "code",
      "execution_count": null,
      "metadata": {
        "colab": {
          "base_uri": "https://localhost:8080/",
          "height": 342
        },
        "id": "2x8Ao0vX3JJt",
        "outputId": "29a8153f-aab6-424b-d841-2960f6e82b80"
      },
      "outputs": [],
      "source": [
        "generator(hf_model, 'سهراب سپهری', num_return_sequences=2)"
      ]
    }
  ],
  "metadata": {
    "accelerator": "GPU",
    "colab": {
      "gpuType": "T4",
      "provenance": []
    },
    "kernelspec": {
      "display_name": "LLM3",
      "language": "python",
      "name": "python3"
    },
    "language_info": {
      "codemirror_mode": {
        "name": "ipython",
        "version": 3
      },
      "file_extension": ".py",
      "mimetype": "text/x-python",
      "name": "python",
      "nbconvert_exporter": "python",
      "pygments_lexer": "ipython3",
      "version": "3.12.3"
    }
  },
  "nbformat": 4,
  "nbformat_minor": 0
}
